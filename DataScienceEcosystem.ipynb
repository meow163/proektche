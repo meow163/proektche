{
 "cells": [
  {
   "cell_type": "markdown",
   "id": "a82f842b-a830-48dc-a7b7-472390b6d6f5",
   "metadata": {},
   "source": [
    "# Data Science Tools and Ecosystem"
   ]
  },
  {
   "cell_type": "markdown",
   "id": "2b04abb0-f5ab-47cd-8d8c-82598870e24b",
   "metadata": {},
   "source": [
    "In this notebook, Data Science Tools and Ecosystem are summarized."
   ]
  },
  {
   "cell_type": "markdown",
   "id": "80c1b783-1639-41b7-bd37-20cfec266051",
   "metadata": {},
   "source": [
    "Some of the popular languages that Data Scientists use are:\n",
    "1. Python\n",
    "2. SQL\n",
    "3. R"
   ]
  },
  {
   "cell_type": "markdown",
   "id": "98905080-46d1-4899-8c8f-c9e5a395a20f",
   "metadata": {},
   "source": [
    "Some of the commonly used libraries used by Data Scientists include: \n",
    "1. Pandas\n",
    "2. Scikit-learn\n",
    "3. ggplot\n",
    "4. Numpy"
   ]
  },
  {
   "cell_type": "markdown",
   "id": "3d3b63ee-edca-4287-a5ed-7bd2b1d84c25",
   "metadata": {},
   "source": [
    "| Data Science Tools |\r",
    "|--------------------|\n",
    "|Google Colab        |\n",
    "| JupyterLab         |\n",
    "| RStudio            |"
   ]
  },
  {
   "cell_type": "markdown",
   "id": "87201e02-171b-4dd5-ab5e-4d94bb9872f8",
   "metadata": {},
   "source": [
    "### Below are a few examples of evaluating arithmetic expressions in Python"
   ]
  },
  {
   "cell_type": "code",
   "execution_count": 3,
   "id": "bd163e96-763a-4e0d-8888-ebc66950f639",
   "metadata": {},
   "outputs": [
    {
     "data": {
      "text/plain": [
       "17"
      ]
     },
     "execution_count": 3,
     "metadata": {},
     "output_type": "execute_result"
    }
   ],
   "source": [
    "#This a simple arithmetic expression to mutiply then add integers\n",
    "(3*4)+5"
   ]
  },
  {
   "cell_type": "code",
   "execution_count": 4,
   "id": "a632641b-1d67-4e97-9b0d-31007c19d838",
   "metadata": {},
   "outputs": [
    {
     "data": {
      "text/plain": [
       "3.3333333333333335"
      ]
     },
     "execution_count": 4,
     "metadata": {},
     "output_type": "execute_result"
    }
   ],
   "source": [
    "#This will convert 200 minutes to hours by diving by 60\n",
    "200/60"
   ]
  },
  {
   "cell_type": "markdown",
   "id": "16b8b620-f467-4bc4-bcf4-088248d0652d",
   "metadata": {},
   "source": [
    "**Objectives:**\n",
    "\n",
    "- List popular languages for Data Science.\n",
    "\n",
    "- List popular libraries for Data Science.\n",
    "\n",
    "- Show understanding of all the markdown formats.\n",
    " \n",
    "- Combine code and comments in one cell.\n",
    " \n",
    "- Write down endless paragraphs of text.\n"
   ]
  },
  {
   "cell_type": "markdown",
   "id": "46551bc4-2917-43d4-95a5-25b40f64b869",
   "metadata": {},
   "source": [
    "## Author\n",
    "Kristiyan Atanasov"
   ]
  },
  {
   "cell_type": "code",
   "execution_count": null,
   "id": "6b9c6a85-5681-44f9-ae6f-72cb2c2f3ed8",
   "metadata": {},
   "outputs": [],
   "source": []
  }
 ],
 "metadata": {
  "kernelspec": {
   "display_name": "Python 3 (ipykernel)",
   "language": "python",
   "name": "python3"
  },
  "language_info": {
   "codemirror_mode": {
    "name": "ipython",
    "version": 3
   },
   "file_extension": ".py",
   "mimetype": "text/x-python",
   "name": "python",
   "nbconvert_exporter": "python",
   "pygments_lexer": "ipython3",
   "version": "3.8.18"
  }
 },
 "nbformat": 4,
 "nbformat_minor": 5
}
